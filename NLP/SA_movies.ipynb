{
 "cells": [
  {
   "cell_type": "markdown",
   "metadata": {},
   "source": [
    "# Data Import"
   ]
  },
  {
   "cell_type": "code",
   "execution_count": 124,
   "metadata": {},
   "outputs": [],
   "source": [
    "import matplotlib as mpl\n",
    "mpl.rcParams['figure.dpi'] = 300"
   ]
  },
  {
   "cell_type": "code",
   "execution_count": 36,
   "metadata": {},
   "outputs": [],
   "source": [
    "import pandas as pd\n",
    "\n",
    "df_data = pd.read_csv('movie_data.csv', header=0, sep=',', quotechar='\"')"
   ]
  },
  {
   "cell_type": "code",
   "execution_count": 37,
   "metadata": {},
   "outputs": [
    {
     "data": {
      "text/html": [
       "<div>\n",
       "<style scoped>\n",
       "    .dataframe tbody tr th:only-of-type {\n",
       "        vertical-align: middle;\n",
       "    }\n",
       "\n",
       "    .dataframe tbody tr th {\n",
       "        vertical-align: top;\n",
       "    }\n",
       "\n",
       "    .dataframe thead th {\n",
       "        text-align: right;\n",
       "    }\n",
       "</style>\n",
       "<table border=\"1\" class=\"dataframe\">\n",
       "  <thead>\n",
       "    <tr style=\"text-align: right;\">\n",
       "      <th></th>\n",
       "      <th>review</th>\n",
       "      <th>sentiment</th>\n",
       "    </tr>\n",
       "  </thead>\n",
       "  <tbody>\n",
       "    <tr>\n",
       "      <th>0</th>\n",
       "      <td>In 1974, the teenager Martha Moxley (Maggie Gr...</td>\n",
       "      <td>1</td>\n",
       "    </tr>\n",
       "    <tr>\n",
       "      <th>1</th>\n",
       "      <td>OK... so... I really like Kris Kristofferson a...</td>\n",
       "      <td>0</td>\n",
       "    </tr>\n",
       "    <tr>\n",
       "      <th>2</th>\n",
       "      <td>***SPOILER*** Do not read this, if you think a...</td>\n",
       "      <td>0</td>\n",
       "    </tr>\n",
       "    <tr>\n",
       "      <th>3</th>\n",
       "      <td>hi for all the people who have seen this wonde...</td>\n",
       "      <td>1</td>\n",
       "    </tr>\n",
       "    <tr>\n",
       "      <th>4</th>\n",
       "      <td>I recently bought the DVD, forgetting just how...</td>\n",
       "      <td>0</td>\n",
       "    </tr>\n",
       "  </tbody>\n",
       "</table>\n",
       "</div>"
      ],
      "text/plain": [
       "                                              review  sentiment\n",
       "0  In 1974, the teenager Martha Moxley (Maggie Gr...          1\n",
       "1  OK... so... I really like Kris Kristofferson a...          0\n",
       "2  ***SPOILER*** Do not read this, if you think a...          0\n",
       "3  hi for all the people who have seen this wonde...          1\n",
       "4  I recently bought the DVD, forgetting just how...          0"
      ]
     },
     "execution_count": 37,
     "metadata": {},
     "output_type": "execute_result"
    }
   ],
   "source": [
    "df_data.head()"
   ]
  },
  {
   "cell_type": "code",
   "execution_count": 38,
   "metadata": {},
   "outputs": [
    {
     "data": {
      "text/plain": [
       "review       0\n",
       "sentiment    0\n",
       "dtype: int64"
      ]
     },
     "execution_count": 38,
     "metadata": {},
     "output_type": "execute_result"
    }
   ],
   "source": [
    "df_data.loc[df_data['sentiment'].isna()].count()"
   ]
  },
  {
   "cell_type": "code",
   "execution_count": 39,
   "metadata": {},
   "outputs": [
    {
     "data": {
      "text/plain": [
       "review       0\n",
       "sentiment    0\n",
       "dtype: int64"
      ]
     },
     "execution_count": 39,
     "metadata": {},
     "output_type": "execute_result"
    }
   ],
   "source": [
    "df_data.loc[df_data['review'].isna()].count()"
   ]
  },
  {
   "cell_type": "code",
   "execution_count": 40,
   "metadata": {},
   "outputs": [
    {
     "data": {
      "text/plain": [
       "49582"
      ]
     },
     "execution_count": 40,
     "metadata": {},
     "output_type": "execute_result"
    }
   ],
   "source": [
    "len(df_data['review'].unique())"
   ]
  },
  {
   "cell_type": "code",
   "execution_count": 41,
   "metadata": {},
   "outputs": [],
   "source": [
    "df_data = df_data.drop_duplicates(keep='first')"
   ]
  },
  {
   "cell_type": "code",
   "execution_count": 42,
   "metadata": {},
   "outputs": [
    {
     "name": "stdout",
     "output_type": "stream",
     "text": [
      "<bound method DataFrame.count of                                                   review  sentiment\n",
      "0      In 1974, the teenager Martha Moxley (Maggie Gr...          1\n",
      "1      OK... so... I really like Kris Kristofferson a...          0\n",
      "2      ***SPOILER*** Do not read this, if you think a...          0\n",
      "3      hi for all the people who have seen this wonde...          1\n",
      "4      I recently bought the DVD, forgetting just how...          0\n",
      "...                                                  ...        ...\n",
      "49995  OK, lets start with the best. the building. al...          0\n",
      "49996  The British 'heritage film' industry is out of...          0\n",
      "49997  I don't even know where to begin on this one. ...          0\n",
      "49998  Richard Tyler is a little boy who is scared of...          0\n",
      "49999  I waited long to watch this movie. Also becaus...          1\n",
      "\n",
      "[49582 rows x 2 columns]>\n"
     ]
    }
   ],
   "source": [
    "print(df_data.count)"
   ]
  },
  {
   "cell_type": "code",
   "execution_count": 43,
   "metadata": {},
   "outputs": [
    {
     "data": {
      "text/plain": [
       "review       24884\n",
       "sentiment    24884\n",
       "dtype: int64"
      ]
     },
     "execution_count": 43,
     "metadata": {},
     "output_type": "execute_result"
    }
   ],
   "source": [
    "df_data.loc[df_data['sentiment']==1].count()"
   ]
  },
  {
   "cell_type": "code",
   "execution_count": 44,
   "metadata": {},
   "outputs": [
    {
     "data": {
      "text/plain": [
       "review       24698\n",
       "sentiment    24698\n",
       "dtype: int64"
      ]
     },
     "execution_count": 44,
     "metadata": {},
     "output_type": "execute_result"
    }
   ],
   "source": [
    "df_data.loc[df_data['sentiment']==0].count()"
   ]
  },
  {
   "cell_type": "code",
   "execution_count": 45,
   "metadata": {},
   "outputs": [],
   "source": [
    "from wordcloud import WordCloud\n",
    "import seaborn as sns\n",
    "import matplotlib.pyplot as plt"
   ]
  },
  {
   "cell_type": "code",
   "execution_count": 46,
   "metadata": {},
   "outputs": [
    {
     "data": {
      "image/png": "[encoded data removed]",
      "text/plain": [
       "<Figure size 648x432 with 1 Axes>"
      ]
     },
     "metadata": {
      "needs_background": "light"
     },
     "output_type": "display_data"
    }
   ],
   "source": [
    "sns.catplot(x=\"sentiment\", data=df_data, kind=\"count\", height=6, aspect=1.5, palette=sns.light_palette(\"green\"))\n",
    "#plt.show();\n",
    "plt.savefig(\"posnegmovies.png\", dpi=300, quality=100)"
   ]
  },
  {
   "cell_type": "code",
   "execution_count": 47,
   "metadata": {},
   "outputs": [],
   "source": [
    "from sklearn.model_selection import train_test_split\n",
    "\n",
    "X_train, X_test, y_train, y_test = train_test_split(df_data['review'], df_data['sentiment'], test_size=0.2, random_state=1)\n",
    "\n",
    "X_train, X_val, y_train, y_val = train_test_split(X_train, y_train, test_size=0.25, random_state=1)"
   ]
  },
  {
   "cell_type": "markdown",
   "metadata": {},
   "source": [
    "# Data Preprocessing\n",
    "- removing punctuation\n",
    "- removing special characters\n",
    "- removing stopwords\n",
    "- stemming"
   ]
  },
  {
   "cell_type": "code",
   "execution_count": 48,
   "metadata": {},
   "outputs": [
    {
     "name": "stderr",
     "output_type": "stream",
     "text": [
      "[nltk_data] Downloading package stopwords to\n",
      "[nltk_data]     C:\\Users\\juliy\\AppData\\Roaming\\nltk_data...\n",
      "[nltk_data]   Package stopwords is already up-to-date!\n"
     ]
    }
   ],
   "source": [
    "import nltk\n",
    "nltk.download('stopwords')\n",
    "from nltk.corpus import stopwords"
   ]
  },
  {
   "cell_type": "code",
   "execution_count": 49,
   "metadata": {},
   "outputs": [],
   "source": [
    "import re\n",
    "REPLACE_BY_SPACE_RE = re.compile('[/(){}\\[\\]\\|@,;]')\n",
    "BAD_SYMBOLS_RE = re.compile('[^0-9a-z #+_]')\n",
    "STOPWORDS = set(stopwords.words('english'))\n",
    "\n",
    "def text_prepare(text):\n",
    "    \n",
    "    emoticons = re.findall('(?::|;|=)(?:-)?(?:\\)|\\(|D|P)', text)\n",
    "    text = re.sub('<[^>]*>', '', text)\n",
    "    text = (re.sub('[\\W]+', ' ', text.lower()) + ' ' + ' '.join(emoticons).replace('-', ''))\n",
    "    text = re.sub(REPLACE_BY_SPACE_RE, \" \", text)\n",
    "    text = re.sub('\\d+', '', text)\n",
    "    text = re.sub(BAD_SYMBOLS_RE,\"\",text)\n",
    "    text = ' '.join([word for word in text.split() if word not in STOPWORDS])\n",
    "    \n",
    "    return text"
   ]
  },
  {
   "cell_type": "code",
   "execution_count": 50,
   "metadata": {},
   "outputs": [],
   "source": [
    "X_train = [text_prepare(x) for x in X_train]\n",
    "X_val = [text_prepare(x) for x in X_val]\n",
    "X_test = [text_prepare(x) for x in X_test]"
   ]
  },
  {
   "cell_type": "code",
   "execution_count": 51,
   "metadata": {},
   "outputs": [
    {
     "data": {
      "text/plain": [
       "['approximately second thomas edison produced short see annabelle moore performing loie fuller choreographed serpentine dance two different fantastical flowing robes moore one bigger stars late victorian era featured number edison company shorts including one among first kinetoscope films shown london loie fuller actually patented serpentine dance moore performs robes well entire frames frequently hand tinted film presaging one common symbolic devices silent era supposedly moore films popular enough frequently redone including refilming version available us may later version remake moore became even popular rumored would appear naked private party restaurant new york city later went star gibson bathing girl ziegfeld follies appeared short notable framing motion especially second half becomes almost abstract somewhat resembles morris louis painting even though almost years louis relevant work able find short dvd number different anthologies early films',\n",
       " 'makes low budget production one favorite movies kidding watching already times get tired tender melancholia throughout whole thing similarity classics like niagara thinking long time figured guess hero people try good gave trying good hopeless cases carry still spunk human inside story catastrophic night motel end world one way catastrophe nothing end chain coincidences way night reveals logical consequents peoples lives certain constellation cut rest world something dostoevsky tale',\n",
       " 'thirteen years old saw movie expected lot action since escape new york rated germany entered movie fallback boring afterwards realized crap husband exhibits wife mean today via internet pay instant access years ago still angry waste time film soft porno schoolboys undressing bo derek painting color nice named film undressing bo painting']"
      ]
     },
     "execution_count": 51,
     "metadata": {},
     "output_type": "execute_result"
    }
   ],
   "source": [
    "X_train[:3]"
   ]
  },
  {
   "cell_type": "code",
   "execution_count": 52,
   "metadata": {},
   "outputs": [
    {
     "data": {
      "image/png": "[encoded data removed]",
      "text/plain": [
       "<Figure size 432x288 with 1 Axes>"
      ]
     },
     "metadata": {
      "needs_background": "light"
     },
     "output_type": "display_data"
    }
   ],
   "source": [
    "text = \" \".join(review for review in X_train)\n",
    "\n",
    "wordcloud = WordCloud(max_font_size=50, max_words=100, background_color=\"white\").generate(text)\n",
    "plt.figure()\n",
    "plt.imshow(wordcloud, interpolation=\"bilinear\")\n",
    "plt.axis(\"off\")\n",
    "#plt.show();\n",
    "plt.savefig('wordcloud_movies.png', dpi=300, quality=100)"
   ]
  },
  {
   "cell_type": "code",
   "execution_count": 53,
   "metadata": {},
   "outputs": [],
   "source": [
    "from nltk.stem.porter import PorterStemmer\n",
    "\n",
    "def text_stemming(text):\n",
    "    stemmer = PorterStemmer()\n",
    "    return ' '.join([stemmer.stem(word) for word in text.split()]) "
   ]
  },
  {
   "cell_type": "code",
   "execution_count": 54,
   "metadata": {},
   "outputs": [],
   "source": [
    "X_train = [text_stemming(x) for x in X_train]\n",
    "X_val = [text_stemming(x) for x in X_val]\n",
    "X_test = [text_stemming(x) for x in X_test]"
   ]
  },
  {
   "cell_type": "code",
   "execution_count": 55,
   "metadata": {},
   "outputs": [
    {
     "data": {
      "text/plain": [
       "['approxim second thoma edison produc short see annabel moor perform loie fuller choreograph serpentin danc two differ fantast flow robe moor one bigger star late victorian era featur number edison compani short includ one among first kinetoscop film shown london loie fuller actual patent serpentin danc moor perform robe well entir frame frequent hand tint film presag one common symbol devic silent era supposedli moor film popular enough frequent redon includ refilm version avail us may later version remak moor becam even popular rumor would appear nake privat parti restaur new york citi later went star gibson bath girl ziegfeld folli appear short notabl frame motion especi second half becom almost abstract somewhat resembl morri loui paint even though almost year loui relev work abl find short dvd number differ antholog earli film',\n",
       " 'make low budget product one favorit movi kid watch alreadi time get tire tender melancholia throughout whole thing similar classic like niagara think long time figur guess hero peopl tri good gave tri good hopeless case carri still spunk human insid stori catastroph night motel end world one way catastroph noth end chain coincid way night reveal logic consequ peopl live certain constel cut rest world someth dostoevski tale',\n",
       " 'thirteen year old saw movi expect lot action sinc escap new york rate germani enter movi fallback bore afterward realiz crap husband exhibit wife mean today via internet pay instant access year ago still angri wast time film soft porno schoolboy undress bo derek paint color nice name film undress bo paint']"
      ]
     },
     "execution_count": 55,
     "metadata": {},
     "output_type": "execute_result"
    }
   ],
   "source": [
    "X_train[:3]"
   ]
  },
  {
   "cell_type": "markdown",
   "metadata": {},
   "source": [
    "# Feature Extraction\n",
    "- Bag of words\n",
    "- TF-IDF"
   ]
  },
  {
   "cell_type": "markdown",
   "metadata": {},
   "source": [
    "# Bag of Words\n",
    "- 1-2-gram\n",
    "- 1-gram\n",
    "- 2-gram"
   ]
  },
  {
   "cell_type": "code",
   "execution_count": 56,
   "metadata": {},
   "outputs": [],
   "source": [
    "from sklearn.feature_extraction.text import CountVectorizer\n",
    "\n",
    "cvect = CountVectorizer(min_df=3,max_df=0.9, ngram_range=(1, 2))\n",
    "\n",
    "X_train_bow12 = cvect.fit_transform(X_train)\n",
    "X_val_bow12 = cvect.transform(X_val)\n",
    "X_test_bow12 = cvect.transform(X_test)"
   ]
  },
  {
   "cell_type": "code",
   "execution_count": 57,
   "metadata": {},
   "outputs": [],
   "source": [
    "from sklearn.feature_extraction.text import CountVectorizer\n",
    "\n",
    "cvect = CountVectorizer(min_df=3,max_df=0.9, ngram_range=(1, 1))\n",
    "\n",
    "X_train_bow1 = cvect.fit_transform(X_train)\n",
    "X_val_bow1 = cvect.transform(X_val)\n",
    "X_test_bow1 = cvect.transform(X_test)"
   ]
  },
  {
   "cell_type": "code",
   "execution_count": 58,
   "metadata": {},
   "outputs": [],
   "source": [
    "from sklearn.feature_extraction.text import CountVectorizer\n",
    "\n",
    "cvect = CountVectorizer(min_df=3,max_df=0.9, ngram_range=(2, 2))\n",
    "\n",
    "X_train_bow2 = cvect.fit_transform(X_train)\n",
    "X_val_bow2 = cvect.transform(X_val)\n",
    "X_test_bow2 = cvect.transform(X_test)"
   ]
  },
  {
   "cell_type": "markdown",
   "metadata": {},
   "source": [
    "# TF-IDF\n",
    "- 1-2-gram\n",
    "- 1-gram\n",
    "- 2-gram"
   ]
  },
  {
   "cell_type": "code",
   "execution_count": 59,
   "metadata": {},
   "outputs": [],
   "source": [
    "from sklearn.feature_extraction.text import TfidfVectorizer\n",
    "\n",
    "tfidf_vectorizer = TfidfVectorizer(min_df=3, max_df=0.9,ngram_range=(1,2), token_pattern='(\\S+)')\n",
    "\n",
    "X_train_tfidf12 = tfidf_vectorizer.fit_transform(X_train)\n",
    "X_val_tfidf12 = tfidf_vectorizer.transform(X_val)\n",
    "X_test_tfidf12 = tfidf_vectorizer.transform(X_test)"
   ]
  },
  {
   "cell_type": "code",
   "execution_count": 60,
   "metadata": {},
   "outputs": [],
   "source": [
    "from sklearn.feature_extraction.text import TfidfVectorizer\n",
    "\n",
    "tfidf_vectorizer = TfidfVectorizer(min_df=3, max_df=0.9,ngram_range=(1,1), token_pattern='(\\S+)')\n",
    "\n",
    "X_train_tfidf1 = tfidf_vectorizer.fit_transform(X_train)\n",
    "X_val_tfidf1 = tfidf_vectorizer.transform(X_val)\n",
    "X_test_tfidf1 = tfidf_vectorizer.transform(X_test)"
   ]
  },
  {
   "cell_type": "code",
   "execution_count": 61,
   "metadata": {},
   "outputs": [],
   "source": [
    "from sklearn.feature_extraction.text import TfidfVectorizer\n",
    "\n",
    "tfidf_vectorizer = TfidfVectorizer(min_df=3, max_df=0.9,ngram_range=(2,2), token_pattern='(\\S+)')\n",
    "\n",
    "X_train_tfidf2 = tfidf_vectorizer.fit_transform(X_train)\n",
    "X_val_tfidf2 = tfidf_vectorizer.transform(X_val)\n",
    "X_test_tfidf2 = tfidf_vectorizer.transform(X_test)"
   ]
  },
  {
   "cell_type": "markdown",
   "metadata": {},
   "source": [
    "# Evaluation"
   ]
  },
  {
   "cell_type": "code",
   "execution_count": 62,
   "metadata": {},
   "outputs": [],
   "source": [
    "from sklearn.metrics import accuracy_score\n",
    "from sklearn.metrics import f1_score\n",
    "from sklearn.metrics import roc_auc_score \n",
    "from sklearn.metrics import average_precision_score\n",
    "from sklearn.metrics import recall_score\n",
    "from sklearn.metrics import confusion_matrix\n"
   ]
  },
  {
   "cell_type": "code",
   "execution_count": 63,
   "metadata": {},
   "outputs": [],
   "source": [
    "def print_evaluation_scores(y_val, predicted):\n",
    "    \n",
    "    print('Accuracy:', accuracy_score(y_val, predicted))\n",
    "    print('F1 score (micro):',f1_score(y_val,predicted, average='micro'))\n",
    "    print('F1 score: (micro)',f1_score(y_val,predicted, average='macro'))\n",
    "    print('F1 score (weighted):',f1_score(y_val,predicted, average='weighted'))\n",
    "    print('Average precision (micro):',average_precision_score(y_val,predicted, average='micro'))\n",
    "    print('Average precision (micro):',average_precision_score(y_val,predicted,average='macro'))\n",
    "    print('Average precision (weighted):',average_precision_score(y_val,predicted,average='weighted'))"
   ]
  },
  {
   "cell_type": "code",
   "execution_count": null,
   "metadata": {},
   "outputs": [],
   "source": [
    "\n",
    "   \n"
   ]
  },
  {
   "cell_type": "markdown",
   "metadata": {},
   "source": [
    "# Logistic Regression"
   ]
  },
  {
   "cell_type": "code",
   "execution_count": 64,
   "metadata": {},
   "outputs": [],
   "source": [
    "from sklearn.linear_model import LogisticRegressionCV\n",
    "\n",
    "def train_lr_clf(X_train, y_train):\n",
    "    lr = LogisticRegressionCV(cv=5, n_jobs=-1, max_iter=10000)\n",
    "    lr.fit(X_train, y_train)\n",
    "    return lr"
   ]
  },
  {
   "cell_type": "code",
   "execution_count": 65,
   "metadata": {},
   "outputs": [],
   "source": [
    "lr_clf_bow12 = train_lr_clf(X_train_bow12, y_train)\n",
    "lr_clf_bow1 = train_lr_clf(X_train_bow1, y_train)\n",
    "lr_clf_bow2 = train_lr_clf(X_train_bow2, y_train)"
   ]
  },
  {
   "cell_type": "code",
   "execution_count": 66,
   "metadata": {},
   "outputs": [],
   "source": [
    "lr_clf_tfidf12 = train_lr_clf(X_train_tfidf12, y_train)\n",
    "lr_clf_tfidf1 = train_lr_clf(X_train_tfidf1, y_train)\n",
    "lr_clf_tfidf2 = train_lr_clf(X_train_tfidf2, y_train)"
   ]
  },
  {
   "cell_type": "code",
   "execution_count": 67,
   "metadata": {},
   "outputs": [],
   "source": [
    "y_val_predicted_lr_bow12 = lr_clf_bow12.predict(X_val_bow12)\n",
    "y_val_predicted_lr_tfidf12 = lr_clf_tfidf12.predict(X_val_tfidf12)"
   ]
  },
  {
   "cell_type": "code",
   "execution_count": 68,
   "metadata": {},
   "outputs": [],
   "source": [
    "y_val_predicted_lr_bow1 = lr_clf_bow1.predict(X_val_bow1)\n",
    "y_val_predicted_lr_tfidf1 = lr_clf_tfidf1.predict(X_val_tfidf1)"
   ]
  },
  {
   "cell_type": "code",
   "execution_count": 69,
   "metadata": {},
   "outputs": [],
   "source": [
    "y_val_predicted_lr_bow2 = lr_clf_bow2.predict(X_val_bow2)\n",
    "y_val_predicted_lr_tfidf2 = lr_clf_tfidf2.predict(X_val_tfidf2)"
   ]
  },
  {
   "cell_type": "code",
   "execution_count": 70,
   "metadata": {},
   "outputs": [
    {
     "name": "stdout",
     "output_type": "stream",
     "text": [
      "Bag-of-words lr 1,2gram\n",
      "Accuracy: 0.8917011192901079\n",
      "F1 score (micro): 0.8917011192901078\n",
      "F1 score: (micro) 0.891676666189879\n",
      "F1 score (weighted): 0.8916735480093129\n",
      "Average precision (micro): 0.8438938603752297\n",
      "Average precision (micro): 0.8438938603752297\n",
      "Average precision (weighted): 0.8438938603752297\n",
      "Tfidf lr 1,2 gram\n",
      "Accuracy: 0.898053846929515\n",
      "F1 score (micro): 0.898053846929515\n",
      "F1 score: (micro) 0.898020250097623\n",
      "F1 score (weighted): 0.8980167037653676\n",
      "Average precision (micro): 0.8510227317129058\n",
      "Average precision (micro): 0.8510227317129058\n",
      "Average precision (weighted): 0.8510227317129058\n"
     ]
    }
   ],
   "source": [
    "print('Bag-of-words lr 1,2gram')\n",
    "print_evaluation_scores(y_val, y_val_predicted_lr_bow12)\n",
    "print('Tfidf lr 1,2 gram')\n",
    "print_evaluation_scores(y_val, y_val_predicted_lr_tfidf12)"
   ]
  },
  {
   "cell_type": "code",
   "execution_count": 71,
   "metadata": {},
   "outputs": [
    {
     "name": "stdout",
     "output_type": "stream",
     "text": [
      "Bag-of-words lr 1gram\n",
      "Accuracy: 0.8882726631037612\n",
      "F1 score (micro): 0.8882726631037612\n",
      "F1 score: (micro) 0.888250072655521\n",
      "F1 score (weighted): 0.8882470285525667\n",
      "Average precision (micro): 0.8398104653628686\n",
      "Average precision (micro): 0.8398104653628686\n",
      "Average precision (weighted): 0.8398104653628686\n",
      "Tfidf lr 1gram\n",
      "Accuracy: 0.8935161843299385\n",
      "F1 score (micro): 0.8935161843299385\n",
      "F1 score: (micro) 0.8934881113050068\n",
      "F1 score (weighted): 0.8934847983393317\n",
      "Average precision (micro): 0.8458363418066374\n",
      "Average precision (micro): 0.8458363418066374\n",
      "Average precision (weighted): 0.8458363418066374\n"
     ]
    }
   ],
   "source": [
    "print('Bag-of-words lr 1gram')\n",
    "print_evaluation_scores(y_val, y_val_predicted_lr_bow1)\n",
    "print('Tfidf lr 1gram')\n",
    "print_evaluation_scores(y_val, y_val_predicted_lr_tfidf1)"
   ]
  },
  {
   "cell_type": "code",
   "execution_count": 72,
   "metadata": {},
   "outputs": [
    {
     "name": "stdout",
     "output_type": "stream",
     "text": [
      "Bag-of-words lr 2gram\n",
      "Accuracy: 0.8551981446001815\n",
      "F1 score (micro): 0.8551981446001815\n",
      "F1 score: (micro) 0.855165449393544\n",
      "F1 score (weighted): 0.8551612802061204\n",
      "Average precision (micro): 0.7991699519765529\n",
      "Average precision (micro): 0.7991699519765529\n",
      "Average precision (weighted): 0.7991699519765529\n",
      "Tfidf lr 2gram\n",
      "Accuracy: 0.8652818392659071\n",
      "F1 score (micro): 0.865281839265907\n",
      "F1 score: (micro) 0.8652445354166385\n",
      "F1 score (weighted): 0.8652402398218741\n",
      "Average precision (micro): 0.8108658330332639\n",
      "Average precision (micro): 0.8108658330332639\n",
      "Average precision (weighted): 0.8108658330332639\n"
     ]
    }
   ],
   "source": [
    "print('Bag-of-words lr 2gram')\n",
    "print_evaluation_scores(y_val, y_val_predicted_lr_bow2)\n",
    "print('Tfidf lr 2gram')\n",
    "print_evaluation_scores(y_val, y_val_predicted_lr_tfidf2)"
   ]
  },
  {
   "cell_type": "code",
   "execution_count": null,
   "metadata": {},
   "outputs": [],
   "source": []
  },
  {
   "cell_type": "markdown",
   "metadata": {},
   "source": [
    "# Naive Bayes Classifier"
   ]
  },
  {
   "cell_type": "code",
   "execution_count": 73,
   "metadata": {},
   "outputs": [],
   "source": [
    "from sklearn.naive_bayes import MultinomialNB\n",
    "\n",
    "def train_nb_clf(X_train, y_train):\n",
    "    nb_clf = MultinomialNB()\n",
    "    nb_clf.fit(X_train, y_train)\n",
    "    return nb_clf"
   ]
  },
  {
   "cell_type": "code",
   "execution_count": 74,
   "metadata": {},
   "outputs": [],
   "source": [
    "nb_clf_bow12 = train_nb_clf(X_train_bow12, y_train)\n",
    "nb_clf_tfidf12 = train_nb_clf(X_train_tfidf12, y_train)"
   ]
  },
  {
   "cell_type": "code",
   "execution_count": 75,
   "metadata": {},
   "outputs": [],
   "source": [
    "nb_clf_bow1 = train_nb_clf(X_train_bow1, y_train)\n",
    "nb_clf_tfidf1 = train_nb_clf(X_train_tfidf1, y_train)"
   ]
  },
  {
   "cell_type": "code",
   "execution_count": 76,
   "metadata": {},
   "outputs": [],
   "source": [
    "nb_clf_bow2 = train_nb_clf(X_train_bow2, y_train)\n",
    "nb_clf_tfidf2 = train_nb_clf(X_train_tfidf2, y_train)"
   ]
  },
  {
   "cell_type": "code",
   "execution_count": 77,
   "metadata": {},
   "outputs": [],
   "source": [
    "y_val_predicted_nb_bow12 = nb_clf_bow12.predict(X_val_bow12)\n",
    "y_val_predicted_nb_tfidf12 = nb_clf_tfidf12.predict(X_val_tfidf12)"
   ]
  },
  {
   "cell_type": "code",
   "execution_count": 78,
   "metadata": {},
   "outputs": [],
   "source": [
    "y_val_predicted_nb_bow1 = nb_clf_bow1.predict(X_val_bow1)\n",
    "y_val_predicted_nb_tfidf1 = nb_clf_tfidf1.predict(X_val_tfidf1)"
   ]
  },
  {
   "cell_type": "code",
   "execution_count": 79,
   "metadata": {},
   "outputs": [],
   "source": [
    "y_val_predicted_nb_bow2 = nb_clf_bow2.predict(X_val_bow2)\n",
    "y_val_predicted_nb_tfidf2 = nb_clf_tfidf2.predict(X_val_tfidf2)"
   ]
  },
  {
   "cell_type": "code",
   "execution_count": 80,
   "metadata": {},
   "outputs": [
    {
     "name": "stdout",
     "output_type": "stream",
     "text": [
      "Bag-of-words NB 1,2gram\n",
      "Accuracy: 0.869617827972169\n",
      "F1 score (micro): 0.869617827972169\n",
      "F1 score: (micro) 0.8696177802455967\n",
      "F1 score (weighted): 0.8696179313797422\n",
      "Average precision (micro): 0.8206348386834619\n",
      "Average precision (micro): 0.8206348386834619\n",
      "Average precision (weighted): 0.8206348386834619\n",
      "Tfidf NB 1,2gram\n",
      "Accuracy: 0.8775839467580921\n",
      "F1 score (micro): 0.8775839467580921\n",
      "F1 score: (micro) 0.8775702219894056\n",
      "F1 score (weighted): 0.8775677384598338\n",
      "Average precision (micro): 0.8274807121527077\n",
      "Average precision (micro): 0.8274807121527077\n",
      "Average precision (weighted): 0.8274807121527077\n"
     ]
    }
   ],
   "source": [
    "print('Bag-of-words NB 1,2gram')\n",
    "print_evaluation_scores(y_val, y_val_predicted_nb_bow12)\n",
    "print('Tfidf NB 1,2gram')\n",
    "print_evaluation_scores(y_val, y_val_predicted_nb_tfidf12)"
   ]
  },
  {
   "cell_type": "code",
   "execution_count": 81,
   "metadata": {},
   "outputs": [
    {
     "name": "stdout",
     "output_type": "stream",
     "text": [
      "Bag-of-words NB 1gram\n",
      "Accuracy: 0.8501562972673188\n",
      "F1 score (micro): 0.8501562972673188\n",
      "F1 score: (micro) 0.8501233660356726\n",
      "F1 score (weighted): 0.8501276224533684\n",
      "Average precision (micro): 0.8004361997723004\n",
      "Average precision (micro): 0.8004361997723004\n",
      "Average precision (weighted): 0.8004361997723004\n",
      "Tfidf NB 1gram\n",
      "Accuracy: 0.8568115357466976\n",
      "F1 score (micro): 0.8568115357466976\n",
      "F1 score: (micro) 0.8568104743489731\n",
      "F1 score (weighted): 0.8568112212584831\n",
      "Average precision (micro): 0.8054543499983033\n",
      "Average precision (micro): 0.8054543499983033\n",
      "Average precision (weighted): 0.8054543499983033\n"
     ]
    }
   ],
   "source": [
    "print('Bag-of-words NB 1gram')\n",
    "print_evaluation_scores(y_val, y_val_predicted_nb_bow1)\n",
    "print('Tfidf NB 1gram')\n",
    "print_evaluation_scores(y_val, y_val_predicted_nb_tfidf1)"
   ]
  },
  {
   "cell_type": "code",
   "execution_count": 82,
   "metadata": {},
   "outputs": [
    {
     "name": "stdout",
     "output_type": "stream",
     "text": [
      "Bag-of-words NB 2gram\n",
      "Accuracy: 0.8670969043057376\n",
      "F1 score (micro): 0.8670969043057376\n",
      "F1 score: (micro) 0.8670968380885445\n",
      "F1 score (weighted): 0.8670966583561635\n",
      "Average precision (micro): 0.8171654509849862\n",
      "Average precision (micro): 0.8171654509849862\n",
      "Average precision (weighted): 0.8171654509849862\n",
      "Tfidf NB 2gram\n",
      "Accuracy: 0.8732479580518302\n",
      "F1 score (micro): 0.8732479580518302\n",
      "F1 score: (micro) 0.8732462877111331\n",
      "F1 score (weighted): 0.8732454061424318\n",
      "Average precision (micro): 0.8239892246377122\n",
      "Average precision (micro): 0.8239892246377122\n",
      "Average precision (weighted): 0.8239892246377122\n"
     ]
    }
   ],
   "source": [
    "print('Bag-of-words NB 2gram')\n",
    "print_evaluation_scores(y_val, y_val_predicted_nb_bow2)\n",
    "print('Tfidf NB 2gram')\n",
    "print_evaluation_scores(y_val, y_val_predicted_nb_tfidf2)"
   ]
  },
  {
   "cell_type": "markdown",
   "metadata": {},
   "source": [
    "# Support Vector Machine"
   ]
  },
  {
   "cell_type": "code",
   "execution_count": 83,
   "metadata": {},
   "outputs": [],
   "source": [
    "from sklearn.svm import SVC\n",
    "\n",
    "def train_svm_clf(X_train, y_train):\n",
    "    svm_clf = SVC(C=1,random_state=None)\n",
    "    svm_clf.fit(X_train, y_train)\n",
    "    return svm_clf"
   ]
  },
  {
   "cell_type": "code",
   "execution_count": 84,
   "metadata": {},
   "outputs": [],
   "source": [
    "#svm_clf_bow12 = train_svm_clf(X_train_bow12, y_train)"
   ]
  },
  {
   "cell_type": "code",
   "execution_count": 85,
   "metadata": {},
   "outputs": [],
   "source": [
    "#svm_clf_tfidf12 = train_svm_clf(X_train_tfidf12, y_train)"
   ]
  },
  {
   "cell_type": "code",
   "execution_count": 86,
   "metadata": {},
   "outputs": [],
   "source": [
    "#svm_clf_bow1 = train_svm_clf(X_train_bow1, y_train)"
   ]
  },
  {
   "cell_type": "code",
   "execution_count": 87,
   "metadata": {},
   "outputs": [],
   "source": [
    "#svm_clf_tfidf1 = train_svm_clf(X_train_tfidf1, y_train)"
   ]
  },
  {
   "cell_type": "code",
   "execution_count": 88,
   "metadata": {},
   "outputs": [],
   "source": [
    "#svm_clf_bow2 = train_svm_clf(X_train_bow2, y_train)"
   ]
  },
  {
   "cell_type": "code",
   "execution_count": 89,
   "metadata": {},
   "outputs": [],
   "source": [
    "#svm_clf_tfidf2 = train_svm_clf(X_train_tfidf2, y_train)"
   ]
  },
  {
   "cell_type": "code",
   "execution_count": 90,
   "metadata": {},
   "outputs": [],
   "source": [
    "#y_val_predicted_svm_bow12 = svm_clf_bow12.predict(X_val_bow12)\n",
    "#y_val_predicted_svm_tfidf12 = svm_clf_tfidf12.predict(X_val_tfidf12)"
   ]
  },
  {
   "cell_type": "code",
   "execution_count": 91,
   "metadata": {},
   "outputs": [],
   "source": [
    "#y_val_predicted_svm_bow1 = svm_clf_bow1.predict(X_val_bow1)\n",
    "#y_val_predicted_svm_tfidf1 = svm_clf_tfidf1.predict(X_val_tfidf1)"
   ]
  },
  {
   "cell_type": "code",
   "execution_count": 92,
   "metadata": {},
   "outputs": [],
   "source": [
    "#y_val_predicted_svm_bow2 = svm_clf_bow2.predict(X_val_bow2)\n",
    "#y_val_predicted_svm_tfidf2 = svm_clf_tfidf2.predict(X_val_tfidf2)"
   ]
  },
  {
   "cell_type": "code",
   "execution_count": 93,
   "metadata": {},
   "outputs": [],
   "source": [
    "#import pickle\n",
    "#saved_svm12_bow = open('saved_svm12_bow.sav','wb')\n",
    "#pickle.dump(svm_clf_bow12,saved_svm12_bow)\n",
    "#saved_svm12_bow.close()\n",
    "\n",
    "#saved_svm12_tfidf = open('saved_svm12_tfidf.sav','wb')\n",
    "#pickle.dump(svm_clf_tfidf12,saved_svm12_tfidf)\n",
    "#saved_svm12_tfidf.close()\n",
    "\n",
    "#saved_svm1_bow = open('saved_svm1_bow.sav','wb')\n",
    "#pickle.dump(svm_clf_bow1,saved_svm1_bow)\n",
    "#saved_svm1_bow.close()\n",
    "\n",
    "#saved_svm1_tfidf = open('saved_svm1_tfidf.sav','wb')\n",
    "#pickle.dump(svm_clf_tfidf1,saved_svm1_tfidf)\n",
    "#saved_svm1_tfidf.close()\n",
    "\n",
    "#saved_svm2_bow = open('saved_svm2_bow.sav','wb')\n",
    "#pickle.dump(svm_clf_bow2,saved_svm2_bow)\n",
    "#saved_svm2_bow.close()\n",
    "\n",
    "#saved_svm2_tfidf = open('saved_svm2_tfidf.sav','wb')\n",
    "#pickle.dump(svm_clf_tfidf2,saved_svm2_tfidf)\n",
    "#saved_svm2_tfidf.close()"
   ]
  },
  {
   "cell_type": "code",
   "execution_count": 94,
   "metadata": {},
   "outputs": [],
   "source": [
    "import pickle\n",
    "saved_svm12_bow = pickle.load(open('saved_svm12_bow.sav','rb'))\n",
    "saved_svm12_tfidf = pickle.load(open('saved_svm12_tfidf.sav','rb'))\n",
    "\n",
    "saved_svm1_bow = pickle.load(open('saved_svm1_bow.sav','rb'))\n",
    "saved_svm1_tfidf = pickle.load(open('saved_svm1_tfidf.sav','rb'))\n",
    "\n",
    "saved_svm2_bow = pickle.load(open('saved_svm2_bow.sav','rb'))\n",
    "saved_svm2_tfidf = pickle.load(open('saved_svm2_tfidf.sav','rb'))"
   ]
  },
  {
   "cell_type": "code",
   "execution_count": null,
   "metadata": {},
   "outputs": [],
   "source": []
  },
  {
   "cell_type": "code",
   "execution_count": null,
   "metadata": {},
   "outputs": [],
   "source": []
  },
  {
   "cell_type": "code",
   "execution_count": 95,
   "metadata": {},
   "outputs": [],
   "source": [
    "#print('Bag-of-words SVM 1,2gram')\n",
    "#print_evaluation_scores(y_val, y_val_predicted_svm_bow12)\n",
    "#print('Tfidf SVM 1,2gram')\n",
    "#print_evaluation_scores(y_val, y_val_predicted_svm_tfidf12)"
   ]
  },
  {
   "cell_type": "code",
   "execution_count": 96,
   "metadata": {},
   "outputs": [],
   "source": [
    "#print('Bag-of-words SVM 1gram')\n",
    "#print_evaluation_scores(y_val, y_val_predicted_svm_bow1)\n",
    "#print('Tfidf SVM 1gram')\n",
    "#print_evaluation_scores(y_val, y_val_predicted_svm_tfidf1)"
   ]
  },
  {
   "cell_type": "code",
   "execution_count": 97,
   "metadata": {},
   "outputs": [],
   "source": [
    "#print('Bag-of-words SVM 2gram')\n",
    "#print_evaluation_scores(y_val, y_val_predicted_svm_bow2)\n",
    "#print('Tfidf SVM 2gram')\n",
    "#print_evaluation_scores(y_val, y_val_predicted_svm_tfidf2)"
   ]
  },
  {
   "cell_type": "markdown",
   "metadata": {},
   "source": [
    "# Random Forest"
   ]
  },
  {
   "cell_type": "code",
   "execution_count": 98,
   "metadata": {},
   "outputs": [],
   "source": [
    "from sklearn.ensemble import RandomForestClassifier\n",
    "def train_rf_clf(X_train, y_train):\n",
    "    rf_clf = RandomForestClassifier(criterion='entropy', min_samples_split=5,n_jobs=-1)\n",
    "    rf_clf.fit(X_train, y_train)\n",
    "    return rf_clf"
   ]
  },
  {
   "cell_type": "code",
   "execution_count": 99,
   "metadata": {},
   "outputs": [],
   "source": [
    "rf_clf_bow12 = train_rf_clf(X_train_bow12, y_train)\n",
    "rf_clf_tfidf12 = train_rf_clf(X_train_tfidf12, y_train)"
   ]
  },
  {
   "cell_type": "code",
   "execution_count": 100,
   "metadata": {},
   "outputs": [],
   "source": [
    "rf_clf_bow1 = train_rf_clf(X_train_bow1, y_train)\n",
    "rf_clf_tfidf1 = train_rf_clf(X_train_tfidf1, y_train)"
   ]
  },
  {
   "cell_type": "code",
   "execution_count": 101,
   "metadata": {},
   "outputs": [],
   "source": [
    "rf_clf_bow2 = train_rf_clf(X_train_bow2, y_train)\n",
    "rf_clf_tfidf2 = train_rf_clf(X_train_tfidf2, y_train)"
   ]
  },
  {
   "cell_type": "code",
   "execution_count": 102,
   "metadata": {},
   "outputs": [],
   "source": [
    "y_val_predicted_rf_bow12 = rf_clf_bow12.predict(X_val_bow12)\n",
    "y_val_predicted_rf_tfidf12 = rf_clf_tfidf12.predict(X_val_tfidf12)"
   ]
  },
  {
   "cell_type": "code",
   "execution_count": 103,
   "metadata": {},
   "outputs": [],
   "source": [
    "y_val_predicted_rf_bow1 = rf_clf_bow1.predict(X_val_bow1)\n",
    "y_val_predicted_rf_tfidf1 = rf_clf_tfidf1.predict(X_val_tfidf1)"
   ]
  },
  {
   "cell_type": "code",
   "execution_count": 104,
   "metadata": {},
   "outputs": [],
   "source": [
    "y_val_predicted_rf_bow2 = rf_clf_bow2.predict(X_val_bow2)\n",
    "y_val_predicted_rf_tfidf2 = rf_clf_tfidf2.predict(X_val_tfidf2)"
   ]
  },
  {
   "cell_type": "code",
   "execution_count": 105,
   "metadata": {},
   "outputs": [
    {
     "name": "stdout",
     "output_type": "stream",
     "text": [
      "Bag-of-words RF 1,2gram\n",
      "Accuracy: 0.8568115357466976\n",
      "F1 score (micro): 0.8568115357466976\n",
      "F1 score: (micro) 0.8567182809457761\n",
      "F1 score (weighted): 0.8567112776208057\n",
      "Average precision (micro): 0.7986531056049272\n",
      "Average precision (micro): 0.7986531056049272\n",
      "Average precision (weighted): 0.7986531056049272\n",
      "Tfidf RF 1,2gram\n",
      "Accuracy: 0.8583240899465564\n",
      "F1 score (micro): 0.8583240899465564\n",
      "F1 score: (micro) 0.8582580867132373\n",
      "F1 score (weighted): 0.8582522266130829\n",
      "Average precision (micro): 0.8013496068310688\n",
      "Average precision (micro): 0.8013496068310688\n",
      "Average precision (weighted): 0.8013496068310688\n"
     ]
    }
   ],
   "source": [
    "print('Bag-of-words RF 1,2gram')\n",
    "print_evaluation_scores(y_val, y_val_predicted_rf_bow12)\n",
    "print('Tfidf RF 1,2gram')\n",
    "print_evaluation_scores(y_val, y_val_predicted_rf_tfidf12)"
   ]
  },
  {
   "cell_type": "code",
   "execution_count": 106,
   "metadata": {},
   "outputs": [
    {
     "name": "stdout",
     "output_type": "stream",
     "text": [
      "Bag-of-words RF 1gram\n",
      "Accuracy: 0.8531814056670364\n",
      "F1 score (micro): 0.8531814056670363\n",
      "F1 score: (micro) 0.8531473589666045\n",
      "F1 score (weighted): 0.8531430749446958\n",
      "Average precision (micro): 0.7967275740989652\n",
      "Average precision (micro): 0.7967275740989652\n",
      "Average precision (weighted): 0.7967275740989652\n",
      "Tfidf RF 1gram\n",
      "Accuracy: 0.8500554603206615\n",
      "F1 score (micro): 0.8500554603206615\n",
      "F1 score: (micro) 0.8500229538453847\n",
      "F1 score (weighted): 0.8500187235506569\n",
      "Average precision (micro): 0.7931461243569108\n",
      "Average precision (micro): 0.7931461243569108\n",
      "Average precision (weighted): 0.7931461243569108\n"
     ]
    }
   ],
   "source": [
    "print('Bag-of-words RF 1gram')\n",
    "print_evaluation_scores(y_val, y_val_predicted_rf_bow1)\n",
    "print('Tfidf RF 1gram')\n",
    "print_evaluation_scores(y_val, y_val_predicted_rf_tfidf1)"
   ]
  },
  {
   "cell_type": "code",
   "execution_count": 107,
   "metadata": {},
   "outputs": [
    {
     "name": "stdout",
     "output_type": "stream",
     "text": [
      "Bag-of-words RF 2gram\n",
      "Accuracy: 0.8013512150852072\n",
      "F1 score (micro): 0.8013512150852072\n",
      "F1 score: (micro) 0.8010513666458843\n",
      "F1 score (weighted): 0.8010365689306969\n",
      "Average precision (micro): 0.7340798183377746\n",
      "Average precision (micro): 0.7340798183377746\n",
      "Average precision (weighted): 0.7340798183377746\n",
      "Tfidf RF 2gram\n",
      "Accuracy: 0.801653725925179\n",
      "F1 score (micro): 0.8016537259251791\n",
      "F1 score: (micro) 0.801571398148955\n",
      "F1 score (weighted): 0.8015636544472308\n",
      "Average precision (micro): 0.7373530074226191\n",
      "Average precision (micro): 0.7373530074226191\n",
      "Average precision (weighted): 0.7373530074226191\n"
     ]
    }
   ],
   "source": [
    "print('Bag-of-words RF 2gram')\n",
    "print_evaluation_scores(y_val, y_val_predicted_rf_bow2)\n",
    "print('Tfidf RF 2gram')\n",
    "print_evaluation_scores(y_val, y_val_predicted_rf_tfidf2)"
   ]
  },
  {
   "cell_type": "markdown",
   "metadata": {},
   "source": [
    "# TEST"
   ]
  },
  {
   "cell_type": "code",
   "execution_count": 108,
   "metadata": {},
   "outputs": [],
   "source": [
    "y_test_predicted_lr_bow12 = lr_clf_bow12.predict(X_test_bow12)\n",
    "y_test_predicted_lr_tfidf12 = lr_clf_tfidf12.predict(X_test_tfidf12)"
   ]
  },
  {
   "cell_type": "code",
   "execution_count": 109,
   "metadata": {},
   "outputs": [],
   "source": [
    "y_test_predicted_lr_bow1 = lr_clf_bow1.predict(X_test_bow1)\n",
    "y_test_predicted_lr_tfidf1 = lr_clf_tfidf1.predict(X_test_tfidf1)"
   ]
  },
  {
   "cell_type": "code",
   "execution_count": 110,
   "metadata": {},
   "outputs": [],
   "source": [
    "y_test_predicted_lr_bow2 = lr_clf_bow2.predict(X_test_bow2)\n",
    "y_test_predicted_lr_tfidf2 = lr_clf_tfidf2.predict(X_test_tfidf2)"
   ]
  },
  {
   "cell_type": "markdown",
   "metadata": {},
   "source": []
  },
  {
   "cell_type": "code",
   "execution_count": 111,
   "metadata": {},
   "outputs": [],
   "source": [
    "y_test_predicted_nb_bow12 = nb_clf_bow12.predict(X_test_bow12)\n",
    "y_test_predicted_nb_tfidf12 = nb_clf_tfidf12.predict(X_test_tfidf12)"
   ]
  },
  {
   "cell_type": "code",
   "execution_count": 112,
   "metadata": {},
   "outputs": [],
   "source": [
    "y_test_predicted_nb_bow1 = nb_clf_bow1.predict(X_test_bow1)\n",
    "y_test_predicted_nb_tfidf1 = nb_clf_tfidf1.predict(X_test_tfidf1)"
   ]
  },
  {
   "cell_type": "code",
   "execution_count": 113,
   "metadata": {},
   "outputs": [],
   "source": [
    "y_test_predicted_nb_bow2 = nb_clf_bow2.predict(X_test_bow2)\n",
    "y_test_predicted_nb_tfidf2 = nb_clf_tfidf2.predict(X_test_tfidf2)"
   ]
  },
  {
   "cell_type": "markdown",
   "metadata": {},
   "source": []
  },
  {
   "cell_type": "code",
   "execution_count": 114,
   "metadata": {},
   "outputs": [],
   "source": [
    "y_test_predicted_svm_bow12 = saved_svm12_bow.predict(X_test_bow12)\n",
    "y_test_predicted_svm_tfidf12 = saved_svm12_tfidf.predict(X_test_tfidf12)"
   ]
  },
  {
   "cell_type": "code",
   "execution_count": 115,
   "metadata": {},
   "outputs": [],
   "source": [
    "y_test_predicted_svm_bow1 = saved_svm1_bow.predict(X_test_bow1)\n",
    "y_test_predicted_svm_tfidf1 = saved_svm1_tfidf.predict(X_test_tfidf1)"
   ]
  },
  {
   "cell_type": "code",
   "execution_count": 116,
   "metadata": {},
   "outputs": [],
   "source": [
    "y_test_predicted_svm_bow2 = saved_svm2_bow.predict(X_test_bow2)\n",
    "y_test_predicted_svm_tfidf2 = saved_svm2_tfidf.predict(X_test_tfidf2)"
   ]
  },
  {
   "cell_type": "code",
   "execution_count": null,
   "metadata": {},
   "outputs": [],
   "source": []
  },
  {
   "cell_type": "code",
   "execution_count": 117,
   "metadata": {},
   "outputs": [],
   "source": [
    "y_test_predicted_rf_bow12 = rf_clf_bow12.predict(X_test_bow12)\n",
    "y_test_predicted_rf_tfidf12 = rf_clf_tfidf12.predict(X_test_tfidf12)\n",
    "\n",
    "y_test_predicted_rf_bow1 = rf_clf_bow1.predict(X_test_bow1)\n",
    "y_test_predicted_rf_tfidf1 = rf_clf_tfidf1.predict(X_test_tfidf1)\n",
    "\n",
    "y_test_predicted_rf_bow2 = rf_clf_bow2.predict(X_test_bow2)\n",
    "y_test_predicted_rf_tfidf2 = rf_clf_tfidf2.predict(X_test_tfidf2)"
   ]
  },
  {
   "cell_type": "markdown",
   "metadata": {},
   "source": [
    "# Plots"
   ]
  },
  {
   "cell_type": "code",
   "execution_count": 118,
   "metadata": {},
   "outputs": [
    {
     "data": {
      "text/html": [
       "<div>\n",
       "<style scoped>\n",
       "    .dataframe tbody tr th:only-of-type {\n",
       "        vertical-align: middle;\n",
       "    }\n",
       "\n",
       "    .dataframe tbody tr th {\n",
       "        vertical-align: top;\n",
       "    }\n",
       "\n",
       "    .dataframe thead th {\n",
       "        text-align: right;\n",
       "    }\n",
       "</style>\n",
       "<table border=\"1\" class=\"dataframe\">\n",
       "  <thead>\n",
       "    <tr style=\"text-align: right;\">\n",
       "      <th></th>\n",
       "      <th>Модель</th>\n",
       "      <th>Векторизація</th>\n",
       "      <th>N-грами</th>\n",
       "      <th>Точність</th>\n",
       "      <th>F-міра</th>\n",
       "    </tr>\n",
       "  </thead>\n",
       "  <tbody>\n",
       "    <tr>\n",
       "      <th>0</th>\n",
       "      <td>SVM</td>\n",
       "      <td>BOW</td>\n",
       "      <td>1,2-грами</td>\n",
       "      <td>0.872744</td>\n",
       "      <td>0.876950</td>\n",
       "    </tr>\n",
       "    <tr>\n",
       "      <th>1</th>\n",
       "      <td>SVM</td>\n",
       "      <td>BOW</td>\n",
       "      <td>1-грами</td>\n",
       "      <td>0.869013</td>\n",
       "      <td>0.873453</td>\n",
       "    </tr>\n",
       "    <tr>\n",
       "      <th>2</th>\n",
       "      <td>SVM</td>\n",
       "      <td>BOW</td>\n",
       "      <td>2-грами</td>\n",
       "      <td>0.849753</td>\n",
       "      <td>0.855983</td>\n",
       "    </tr>\n",
       "    <tr>\n",
       "      <th>0</th>\n",
       "      <td>SVM</td>\n",
       "      <td>TFIDF</td>\n",
       "      <td>1,2-грами</td>\n",
       "      <td>0.894424</td>\n",
       "      <td>0.897282</td>\n",
       "    </tr>\n",
       "    <tr>\n",
       "      <th>1</th>\n",
       "      <td>SVM</td>\n",
       "      <td>TFIDF</td>\n",
       "      <td>1-грами</td>\n",
       "      <td>0.889584</td>\n",
       "      <td>0.892086</td>\n",
       "    </tr>\n",
       "    <tr>\n",
       "      <th>2</th>\n",
       "      <td>SVM</td>\n",
       "      <td>TFIDF</td>\n",
       "      <td>2-грами</td>\n",
       "      <td>0.867904</td>\n",
       "      <td>0.872345</td>\n",
       "    </tr>\n",
       "  </tbody>\n",
       "</table>\n",
       "</div>"
      ],
      "text/plain": [
       "  Модель Векторизація    N-грами  Точність    F-міра\n",
       "0    SVM          BOW  1,2-грами  0.872744  0.876950\n",
       "1    SVM          BOW    1-грами  0.869013  0.873453\n",
       "2    SVM          BOW    2-грами  0.849753  0.855983\n",
       "0    SVM        TFIDF  1,2-грами  0.894424  0.897282\n",
       "1    SVM        TFIDF    1-грами  0.889584  0.892086\n",
       "2    SVM        TFIDF    2-грами  0.867904  0.872345"
      ]
     },
     "execution_count": 118,
     "metadata": {},
     "output_type": "execute_result"
    }
   ],
   "source": [
    "df_p1 = pd.DataFrame({'Модель': \"SVM\", 'Векторизація': 'BOW', 'N-грами': pd.Categorical([\"1,2-грами\",\"1-грами\",\"2-грами\"]),\n",
    "                     'Точність' : pd.array([ accuracy_score(y_test, y_test_predicted_svm_bow12),\n",
    "                                            accuracy_score(y_test, y_test_predicted_svm_bow1),\n",
    "                                           accuracy_score(y_test, y_test_predicted_svm_bow2)]),\n",
    "                     'F-міра': pd.array([f1_score(y_test, y_test_predicted_svm_bow12),\n",
    "                                          f1_score(y_test, y_test_predicted_svm_bow1),\n",
    "                                          f1_score(y_test, y_test_predicted_svm_bow2)])})\n",
    "df_p2 = pd.DataFrame({'Модель': \"SVM\", 'Векторизація': 'TFIDF', 'N-грами': pd.Categorical([\"1,2-грами\",\"1-грами\",\"2-грами\"]),\n",
    "                     'Точність' : pd.array([ accuracy_score(y_test, y_test_predicted_svm_tfidf12),\n",
    "                                            accuracy_score(y_test, y_test_predicted_svm_tfidf1),\n",
    "                                           accuracy_score(y_test, y_test_predicted_svm_tfidf2)]),\n",
    "                     'F-міра': pd.array([f1_score(y_test, y_test_predicted_svm_tfidf12),\n",
    "                                          f1_score(y_test, y_test_predicted_svm_tfidf1),\n",
    "                                          f1_score(y_test, y_test_predicted_svm_tfidf2)])})\n",
    "                                \n",
    "df_svm = pd.concat([df_p1, df_p2])\n",
    "df_svm[:6]"
   ]
  },
  {
   "cell_type": "code",
   "execution_count": 119,
   "metadata": {},
   "outputs": [
    {
     "data": {
      "text/html": [
       "<div>\n",
       "<style scoped>\n",
       "    .dataframe tbody tr th:only-of-type {\n",
       "        vertical-align: middle;\n",
       "    }\n",
       "\n",
       "    .dataframe tbody tr th {\n",
       "        vertical-align: top;\n",
       "    }\n",
       "\n",
       "    .dataframe thead th {\n",
       "        text-align: right;\n",
       "    }\n",
       "</style>\n",
       "<table border=\"1\" class=\"dataframe\">\n",
       "  <thead>\n",
       "    <tr style=\"text-align: right;\">\n",
       "      <th></th>\n",
       "      <th>Модель</th>\n",
       "      <th>Векторизація</th>\n",
       "      <th>N-грами</th>\n",
       "      <th>Точність</th>\n",
       "      <th>F-міра</th>\n",
       "    </tr>\n",
       "  </thead>\n",
       "  <tbody>\n",
       "    <tr>\n",
       "      <th>0</th>\n",
       "      <td>ЛР</td>\n",
       "      <td>BOW</td>\n",
       "      <td>1,2-грами</td>\n",
       "      <td>0.887668</td>\n",
       "      <td>0.889396</td>\n",
       "    </tr>\n",
       "    <tr>\n",
       "      <th>1</th>\n",
       "      <td>ЛР</td>\n",
       "      <td>BOW</td>\n",
       "      <td>1-грами</td>\n",
       "      <td>0.878491</td>\n",
       "      <td>0.880894</td>\n",
       "    </tr>\n",
       "    <tr>\n",
       "      <th>2</th>\n",
       "      <td>ЛР</td>\n",
       "      <td>BOW</td>\n",
       "      <td>2-грами</td>\n",
       "      <td>0.858425</td>\n",
       "      <td>0.861183</td>\n",
       "    </tr>\n",
       "    <tr>\n",
       "      <th>0</th>\n",
       "      <td>ЛР</td>\n",
       "      <td>TFIDF</td>\n",
       "      <td>1,2-грами</td>\n",
       "      <td>0.898155</td>\n",
       "      <td>0.899980</td>\n",
       "    </tr>\n",
       "    <tr>\n",
       "      <th>1</th>\n",
       "      <td>ЛР</td>\n",
       "      <td>TFIDF</td>\n",
       "      <td>1-грами</td>\n",
       "      <td>0.885449</td>\n",
       "      <td>0.887680</td>\n",
       "    </tr>\n",
       "    <tr>\n",
       "      <th>2</th>\n",
       "      <td>ЛР</td>\n",
       "      <td>TFIDF</td>\n",
       "      <td>2-грами</td>\n",
       "      <td>0.865282</td>\n",
       "      <td>0.867775</td>\n",
       "    </tr>\n",
       "  </tbody>\n",
       "</table>\n",
       "</div>"
      ],
      "text/plain": [
       "  Модель Векторизація    N-грами  Точність    F-міра\n",
       "0     ЛР          BOW  1,2-грами  0.887668  0.889396\n",
       "1     ЛР          BOW    1-грами  0.878491  0.880894\n",
       "2     ЛР          BOW    2-грами  0.858425  0.861183\n",
       "0     ЛР        TFIDF  1,2-грами  0.898155  0.899980\n",
       "1     ЛР        TFIDF    1-грами  0.885449  0.887680\n",
       "2     ЛР        TFIDF    2-грами  0.865282  0.867775"
      ]
     },
     "execution_count": 119,
     "metadata": {},
     "output_type": "execute_result"
    }
   ],
   "source": [
    "df_lr1 = pd.DataFrame({'Модель': \"ЛР\", 'Векторизація': 'BOW', 'N-грами': pd.Categorical([\"1,2-грами\",\"1-грами\",\"2-грами\"]),\n",
    "                     'Точність' : pd.array([ accuracy_score(y_test, y_test_predicted_lr_bow12),\n",
    "                                            accuracy_score(y_test, y_test_predicted_lr_bow1),\n",
    "                                           accuracy_score(y_test, y_test_predicted_lr_bow2)]),\n",
    "                     'F-міра': pd.array([f1_score(y_test, y_test_predicted_lr_bow12),\n",
    "                                          f1_score(y_test, y_test_predicted_lr_bow1),\n",
    "                                          f1_score(y_test, y_test_predicted_lr_bow2)])})\n",
    "df_lr2 = pd.DataFrame({'Модель': \"ЛР\", 'Векторизація': 'TFIDF', 'N-грами': pd.Categorical([\"1,2-грами\",\"1-грами\",\"2-грами\"]),\n",
    "                     'Точність' : pd.array([ accuracy_score(y_test, y_test_predicted_lr_tfidf12),\n",
    "                                            accuracy_score(y_test, y_test_predicted_lr_tfidf1),\n",
    "                                           accuracy_score(y_test, y_test_predicted_lr_tfidf2)]),\n",
    "                     'F-міра': pd.array([f1_score(y_test, y_test_predicted_lr_tfidf12),\n",
    "                                          f1_score(y_test, y_test_predicted_lr_tfidf1),\n",
    "                                          f1_score(y_test, y_test_predicted_lr_tfidf2)])})\n",
    "df_lr = pd.concat([df_lr1, df_lr2])\n",
    "df_lr[:6]"
   ]
  },
  {
   "cell_type": "code",
   "execution_count": 120,
   "metadata": {},
   "outputs": [
    {
     "data": {
      "text/html": [
       "<div>\n",
       "<style scoped>\n",
       "    .dataframe tbody tr th:only-of-type {\n",
       "        vertical-align: middle;\n",
       "    }\n",
       "\n",
       "    .dataframe tbody tr th {\n",
       "        vertical-align: top;\n",
       "    }\n",
       "\n",
       "    .dataframe thead th {\n",
       "        text-align: right;\n",
       "    }\n",
       "</style>\n",
       "<table border=\"1\" class=\"dataframe\">\n",
       "  <thead>\n",
       "    <tr style=\"text-align: right;\">\n",
       "      <th></th>\n",
       "      <th>Модель</th>\n",
       "      <th>Векторизація</th>\n",
       "      <th>N-грами</th>\n",
       "      <th>Точність</th>\n",
       "      <th>F-міра</th>\n",
       "    </tr>\n",
       "  </thead>\n",
       "  <tbody>\n",
       "    <tr>\n",
       "      <th>0</th>\n",
       "      <td>НБК</td>\n",
       "      <td>BOW</td>\n",
       "      <td>1,2-грами</td>\n",
       "      <td>0.872744</td>\n",
       "      <td>0.873522</td>\n",
       "    </tr>\n",
       "    <tr>\n",
       "      <th>1</th>\n",
       "      <td>НБК</td>\n",
       "      <td>BOW</td>\n",
       "      <td>1-грами</td>\n",
       "      <td>0.850257</td>\n",
       "      <td>0.848947</td>\n",
       "    </tr>\n",
       "    <tr>\n",
       "      <th>2</th>\n",
       "      <td>НБК</td>\n",
       "      <td>BOW</td>\n",
       "      <td>2-грами</td>\n",
       "      <td>0.870122</td>\n",
       "      <td>0.871303</td>\n",
       "    </tr>\n",
       "    <tr>\n",
       "      <th>0</th>\n",
       "      <td>НБК</td>\n",
       "      <td>TFIDF</td>\n",
       "      <td>1,2-грами</td>\n",
       "      <td>0.880004</td>\n",
       "      <td>0.881851</td>\n",
       "    </tr>\n",
       "    <tr>\n",
       "      <th>1</th>\n",
       "      <td>НБК</td>\n",
       "      <td>TFIDF</td>\n",
       "      <td>1-грами</td>\n",
       "      <td>0.856408</td>\n",
       "      <td>0.856942</td>\n",
       "    </tr>\n",
       "    <tr>\n",
       "      <th>2</th>\n",
       "      <td>НБК</td>\n",
       "      <td>TFIDF</td>\n",
       "      <td>2-грами</td>\n",
       "      <td>0.872441</td>\n",
       "      <td>0.873664</td>\n",
       "    </tr>\n",
       "  </tbody>\n",
       "</table>\n",
       "</div>"
      ],
      "text/plain": [
       "  Модель Векторизація    N-грами  Точність    F-міра\n",
       "0    НБК          BOW  1,2-грами  0.872744  0.873522\n",
       "1    НБК          BOW    1-грами  0.850257  0.848947\n",
       "2    НБК          BOW    2-грами  0.870122  0.871303\n",
       "0    НБК        TFIDF  1,2-грами  0.880004  0.881851\n",
       "1    НБК        TFIDF    1-грами  0.856408  0.856942\n",
       "2    НБК        TFIDF    2-грами  0.872441  0.873664"
      ]
     },
     "execution_count": 120,
     "metadata": {},
     "output_type": "execute_result"
    }
   ],
   "source": [
    "df_nb1 = pd.DataFrame({'Модель': \"НБК\", 'Векторизація': 'BOW', 'N-грами': pd.Categorical([\"1,2-грами\",\"1-грами\",\"2-грами\"]),\n",
    "                     'Точність' : pd.array([ accuracy_score(y_test, y_test_predicted_nb_bow12),\n",
    "                                            accuracy_score(y_test, y_test_predicted_nb_bow1),\n",
    "                                           accuracy_score(y_test, y_test_predicted_nb_bow2)]),\n",
    "                     'F-міра': pd.array([f1_score(y_test, y_test_predicted_nb_bow12),\n",
    "                                          f1_score(y_test, y_test_predicted_nb_bow1),\n",
    "                                          f1_score(y_test, y_test_predicted_nb_bow2)])})\n",
    "df_nb2 = pd.DataFrame({'Модель': \"НБК\", 'Векторизація': 'TFIDF', 'N-грами': pd.Categorical([\"1,2-грами\",\"1-грами\",\"2-грами\"]),\n",
    "                     'Точність' : pd.array([ accuracy_score(y_test, y_test_predicted_nb_tfidf12),\n",
    "                                            accuracy_score(y_test, y_test_predicted_nb_tfidf1),\n",
    "                                           accuracy_score(y_test, y_test_predicted_nb_tfidf2)]),\n",
    "                     'F-міра': pd.array([f1_score(y_test, y_test_predicted_nb_tfidf12),\n",
    "                                          f1_score(y_test, y_test_predicted_nb_tfidf1),\n",
    "                                          f1_score(y_test, y_test_predicted_nb_tfidf2)])})\n",
    "df_nb = pd.concat([df_nb1, df_nb2])\n",
    "df_nb[:6]"
   ]
  },
  {
   "cell_type": "code",
   "execution_count": 121,
   "metadata": {},
   "outputs": [
    {
     "data": {
      "text/html": [
       "<div>\n",
       "<style scoped>\n",
       "    .dataframe tbody tr th:only-of-type {\n",
       "        vertical-align: middle;\n",
       "    }\n",
       "\n",
       "    .dataframe tbody tr th {\n",
       "        vertical-align: top;\n",
       "    }\n",
       "\n",
       "    .dataframe thead th {\n",
       "        text-align: right;\n",
       "    }\n",
       "</style>\n",
       "<table border=\"1\" class=\"dataframe\">\n",
       "  <thead>\n",
       "    <tr style=\"text-align: right;\">\n",
       "      <th></th>\n",
       "      <th>Модель</th>\n",
       "      <th>Векторизація</th>\n",
       "      <th>N-грами</th>\n",
       "      <th>Точність</th>\n",
       "      <th>F-міра</th>\n",
       "    </tr>\n",
       "  </thead>\n",
       "  <tbody>\n",
       "    <tr>\n",
       "      <th>0</th>\n",
       "      <td>ВЛ</td>\n",
       "      <td>BOW</td>\n",
       "      <td>1,2-грами</td>\n",
       "      <td>0.863769</td>\n",
       "      <td>0.867197</td>\n",
       "    </tr>\n",
       "    <tr>\n",
       "      <th>1</th>\n",
       "      <td>ВЛ</td>\n",
       "      <td>BOW</td>\n",
       "      <td>1-грами</td>\n",
       "      <td>0.854190</td>\n",
       "      <td>0.857199</td>\n",
       "    </tr>\n",
       "    <tr>\n",
       "      <th>2</th>\n",
       "      <td>ВЛ</td>\n",
       "      <td>BOW</td>\n",
       "      <td>2-грами</td>\n",
       "      <td>0.798024</td>\n",
       "      <td>0.808197</td>\n",
       "    </tr>\n",
       "    <tr>\n",
       "      <th>0</th>\n",
       "      <td>ВЛ</td>\n",
       "      <td>TFIDF</td>\n",
       "      <td>1,2-грами</td>\n",
       "      <td>0.859433</td>\n",
       "      <td>0.862579</td>\n",
       "    </tr>\n",
       "    <tr>\n",
       "      <th>1</th>\n",
       "      <td>ВЛ</td>\n",
       "      <td>TFIDF</td>\n",
       "      <td>1-грами</td>\n",
       "      <td>0.854291</td>\n",
       "      <td>0.857368</td>\n",
       "    </tr>\n",
       "    <tr>\n",
       "      <th>2</th>\n",
       "      <td>ВЛ</td>\n",
       "      <td>TFIDF</td>\n",
       "      <td>2-грами</td>\n",
       "      <td>0.802057</td>\n",
       "      <td>0.808693</td>\n",
       "    </tr>\n",
       "  </tbody>\n",
       "</table>\n",
       "</div>"
      ],
      "text/plain": [
       "  Модель Векторизація    N-грами  Точність    F-міра\n",
       "0     ВЛ          BOW  1,2-грами  0.863769  0.867197\n",
       "1     ВЛ          BOW    1-грами  0.854190  0.857199\n",
       "2     ВЛ          BOW    2-грами  0.798024  0.808197\n",
       "0     ВЛ        TFIDF  1,2-грами  0.859433  0.862579\n",
       "1     ВЛ        TFIDF    1-грами  0.854291  0.857368\n",
       "2     ВЛ        TFIDF    2-грами  0.802057  0.808693"
      ]
     },
     "execution_count": 121,
     "metadata": {},
     "output_type": "execute_result"
    }
   ],
   "source": [
    "df_rf1 = pd.DataFrame({'Модель': \"ВЛ\", 'Векторизація': 'BOW', 'N-грами': pd.Categorical([\"1,2-грами\",\"1-грами\",\"2-грами\"]),\n",
    "                     'Точність' : pd.array([ accuracy_score(y_test, y_test_predicted_rf_bow12),\n",
    "                                            accuracy_score(y_test, y_test_predicted_rf_bow1),\n",
    "                                           accuracy_score(y_test, y_test_predicted_rf_bow2)]),\n",
    "                     'F-міра': pd.array([f1_score(y_test, y_test_predicted_rf_bow12),\n",
    "                                          f1_score(y_test, y_test_predicted_rf_bow1),\n",
    "                                          f1_score(y_test, y_test_predicted_rf_bow2)])})\n",
    "df_rf2 = pd.DataFrame({'Модель': \"ВЛ\", 'Векторизація': 'TFIDF', 'N-грами': pd.Categorical([\"1,2-грами\",\"1-грами\",\"2-грами\"]),\n",
    "                     'Точність' : pd.array([ accuracy_score(y_test, y_test_predicted_rf_tfidf12),\n",
    "                                            accuracy_score(y_test, y_test_predicted_rf_tfidf1),\n",
    "                                           accuracy_score(y_test, y_test_predicted_rf_tfidf2)]),\n",
    "                     'F-міра': pd.array([f1_score(y_test, y_test_predicted_rf_tfidf12),\n",
    "                                          f1_score(y_test, y_test_predicted_rf_tfidf1),\n",
    "                                          f1_score(y_test, y_test_predicted_rf_tfidf2)])})\n",
    "df_rf = pd.concat([df_rf1, df_rf2])\n",
    "df_rf[:6]"
   ]
  },
  {
   "cell_type": "code",
   "execution_count": 122,
   "metadata": {},
   "outputs": [],
   "source": [
    "df_1 = pd.DataFrame({'fe': 'TFIF', 'N-gram': \"1,2-gram\", \n",
    "                    'model':  pd.Categorical([\"ЛР\",\"НБК\",\"SVM\",\"ВЛ\"]),\n",
    "                    'accuracy': pd.array([ accuracy_score(y_test, y_test_predicted_lr_tfidf12),\n",
    "                                            accuracy_score(y_test, y_test_predicted_nb_tfidf12),\n",
    "                                           accuracy_score(y_test, y_test_predicted_svm_tfidf12),\n",
    "                                         accuracy_score(y_test, y_test_predicted_rf_tfidf12)]),\n",
    "                    'f1score': pd.array([ f1_score(y_test, y_test_predicted_lr_tfidf12),\n",
    "                                            f1_score(y_test, y_test_predicted_nb_tfidf12),\n",
    "                                           f1_score(y_test, y_test_predicted_svm_tfidf12),\n",
    "                                         f1_score(y_test, y_test_predicted_rf_tfidf12)])})\n",
    "\n",
    "  "
   ]
  },
  {
   "cell_type": "code",
   "execution_count": 125,
   "metadata": {},
   "outputs": [
    {
     "data": {
      "image/png": "[encoded data removed]",
      "text/plain": [
       "<Figure size 1800x1200 with 2 Axes>"
      ]
     },
     "metadata": {
      "needs_background": "light"
     },
     "output_type": "display_data"
    }
   ],
   "source": [
    "fig = plt.figure() \n",
    "ax = fig.add_subplot(111) \n",
    "ax2 = ax.twinx() \n",
    "\n",
    "width = 0.2\n",
    "\n",
    "df_1.accuracy.plot(kind='bar', color='lightgreen', ax=ax, width=width, position=1)\n",
    "df_1.f1score.plot(kind='bar', color='rebeccapurple', ax=ax2, width=width, position=0)\n",
    "ax.set_ylabel('Точність')\n",
    "ax2.set_ylabel('F-міра')\n",
    "ax.set_xticklabels(df_1['model'])\n",
    "ax.xaxis.set_tick_params(rotation=0)\n",
    "ax.set_title(\"Відгуки на фільми. TFIDF. 1,2-грами.\")\n",
    "plt.savefig(\"review.png\", dpi=300, quality=100)"
   ]
  },
  {
   "cell_type": "code",
   "execution_count": null,
   "metadata": {},
   "outputs": [],
   "source": []
  }
 ],
 "metadata": {
  "kernelspec": {
   "display_name": "Python 3",
   "language": "python",
   "name": "python3"
  },
  "language_info": {
   "codemirror_mode": {
    "name": "ipython",
    "version": 3
   },
   "file_extension": ".py",
   "mimetype": "text/x-python",
   "name": "python",
   "nbconvert_exporter": "python",
   "pygments_lexer": "ipython3",
   "version": "3.7.6"
  }
 },
 "nbformat": 4,
 "nbformat_minor": 4
}
